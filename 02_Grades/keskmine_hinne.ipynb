{
 "cells": [
  {
   "cell_type": "code",
   "execution_count": 19,
   "metadata": {},
   "outputs": [],
   "source": [
    "# Ülesanne: tagasta list, kus on a\n",
    "\n",
    "fail = open(\"hinded.csv\", encoding=\"UTF-8\")\n",
    "# for rida in fail:\n",
    "#     print(\"Lugesin sellise rea: \" + rida)\n"
   ]
  },
  {
   "cell_type": "code",
   "execution_count": 20,
   "metadata": {},
   "outputs": [
    {
     "name": "stdout",
     "output_type": "stream",
     "text": [
      "programmeerimine\n",
      " 3\n",
      " 4\n",
      " 5\n",
      " 2\n",
      " 4\n",
      "\n",
      "riigihaldus\n",
      " 4\n",
      " 5\n",
      " 5\n",
      " 5\n",
      " 3\n",
      " 2\n",
      "\n",
      "prantsuse keel\n",
      " 3\n",
      " 5\n",
      " 5\n",
      " 5\n",
      " 5\n",
      "\n",
      "inglise keskaegne kirjandus\n",
      " 4\n",
      " 5\n",
      " 5\n",
      " 4\n",
      " 5\n",
      " 5\n"
     ]
    }
   ],
   "source": [
    "for rida in fail:\n",
    "    osad = rida.split(',')\n",
    "    for osa in osad:\n",
    "        print(osa)"
   ]
  },
  {
   "cell_type": "code",
   "execution_count": 21,
   "metadata": {},
   "outputs": [],
   "source": [
    "fail.close()"
   ]
  },
  {
   "cell_type": "code",
   "execution_count": null,
   "metadata": {},
   "outputs": [],
   "source": []
  }
 ],
 "metadata": {
  "kernelspec": {
   "display_name": "Python 3",
   "language": "python",
   "name": "python3"
  },
  "language_info": {
   "codemirror_mode": {
    "name": "ipython",
    "version": 3
   },
   "file_extension": ".py",
   "mimetype": "text/x-python",
   "name": "python",
   "nbconvert_exporter": "python",
   "pygments_lexer": "ipython3",
   "version": "3.7.3"
  }
 },
 "nbformat": 4,
 "nbformat_minor": 2
}
